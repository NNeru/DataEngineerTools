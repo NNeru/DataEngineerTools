{
 "cells": [
  {
   "cell_type": "markdown",
   "metadata": {},
   "source": [
    "# Consignes\n",
    "\n",
    "Intégrer le fichier USvideos.csv qui représente un ensemble de 8000 vidéos Youtube. \n",
    "\n",
    "Merger le fichier US_category_id.json pour récupérer le nom des catégories. Il conviendra de bien spécifier l'ID du document.\n",
    "\n",
    "\n",
    "# Questions \n",
    "- 1) Récupérer toutes les vidéos de la chaîne Apple.\n",
    "- 2) Compter le nombre de catégories différentes\n",
    "- 3) Si vous ne l'avez pas déjà fait, découper les tags en listes et mettre à jour les tags de chacun des documents avec une requête update.\n",
    "- 4) Récupérer les vidéos les plus vues.\n",
    "- 5) Compter le nombre moyen de vues en fonction de la catégorie.\n",
    "- 6) Récupérer les chaines Youtube avec la plus grande moyenne de likes."
   ]
  },
  {
   "cell_type": "code",
   "execution_count": 20,
   "metadata": {},
   "outputs": [],
   "source": [
    "import pandas as pd\n",
    "import pymongo"
   ]
  },
  {
   "cell_type": "code",
   "execution_count": 88,
   "metadata": {},
   "outputs": [],
   "source": [
    "client = pymongo.MongoClient('mongo')\n",
    "database = client['exercices']\n",
    "collection = database['youtube']"
   ]
  },
  {
   "cell_type": "code",
   "execution_count": 89,
   "metadata": {},
   "outputs": [
    {
     "data": {
      "text/html": [
       "<div>\n",
       "<style scoped>\n",
       "    .dataframe tbody tr th:only-of-type {\n",
       "        vertical-align: middle;\n",
       "    }\n",
       "\n",
       "    .dataframe tbody tr th {\n",
       "        vertical-align: top;\n",
       "    }\n",
       "\n",
       "    .dataframe thead th {\n",
       "        text-align: right;\n",
       "    }\n",
       "</style>\n",
       "<table border=\"1\" class=\"dataframe\">\n",
       "  <thead>\n",
       "    <tr style=\"text-align: right;\">\n",
       "      <th></th>\n",
       "      <th>video_id</th>\n",
       "      <th>title</th>\n",
       "      <th>channel_title</th>\n",
       "      <th>category_id</th>\n",
       "      <th>tags</th>\n",
       "      <th>views</th>\n",
       "      <th>likes</th>\n",
       "      <th>dislikes</th>\n",
       "      <th>comment_total</th>\n",
       "      <th>thumbnail_link</th>\n",
       "      <th>date</th>\n",
       "    </tr>\n",
       "  </thead>\n",
       "  <tbody>\n",
       "    <tr>\n",
       "      <th>0</th>\n",
       "      <td>XpVt6Z1Gjjo</td>\n",
       "      <td>1 YEAR OF VLOGGING -- HOW LOGAN PAUL CHANGED Y...</td>\n",
       "      <td>Logan Paul Vlogs</td>\n",
       "      <td>24</td>\n",
       "      <td>logan paul vlog|logan paul|logan|paul|olympics...</td>\n",
       "      <td>4394029</td>\n",
       "      <td>320053</td>\n",
       "      <td>5931</td>\n",
       "      <td>46245</td>\n",
       "      <td>https://i.ytimg.com/vi/XpVt6Z1Gjjo/default.jpg</td>\n",
       "      <td>2020-01-13 00:09:00</td>\n",
       "    </tr>\n",
       "    <tr>\n",
       "      <th>1</th>\n",
       "      <td>K4wEI5zhHB0</td>\n",
       "      <td>iPhone X — Introducing iPhone X — Apple</td>\n",
       "      <td>Apple</td>\n",
       "      <td>28</td>\n",
       "      <td>Apple|iPhone 10|iPhone Ten|iPhone|Portrait Lig...</td>\n",
       "      <td>7860119</td>\n",
       "      <td>185853</td>\n",
       "      <td>26679</td>\n",
       "      <td>0</td>\n",
       "      <td>https://i.ytimg.com/vi/K4wEI5zhHB0/default.jpg</td>\n",
       "      <td>2020-01-13 00:09:00</td>\n",
       "    </tr>\n",
       "    <tr>\n",
       "      <th>2</th>\n",
       "      <td>cLdxuaxaQwc</td>\n",
       "      <td>My Response</td>\n",
       "      <td>PewDiePie</td>\n",
       "      <td>22</td>\n",
       "      <td>[none]</td>\n",
       "      <td>5845909</td>\n",
       "      <td>576597</td>\n",
       "      <td>39774</td>\n",
       "      <td>170708</td>\n",
       "      <td>https://i.ytimg.com/vi/cLdxuaxaQwc/default.jpg</td>\n",
       "      <td>2020-01-13 00:09:00</td>\n",
       "    </tr>\n",
       "    <tr>\n",
       "      <th>3</th>\n",
       "      <td>WYYvHb03Eog</td>\n",
       "      <td>Apple iPhone X first look</td>\n",
       "      <td>The Verge</td>\n",
       "      <td>28</td>\n",
       "      <td>apple iphone x hands on|Apple iPhone X|iPhone ...</td>\n",
       "      <td>2642103</td>\n",
       "      <td>24975</td>\n",
       "      <td>4542</td>\n",
       "      <td>12829</td>\n",
       "      <td>https://i.ytimg.com/vi/WYYvHb03Eog/default.jpg</td>\n",
       "      <td>2020-01-13 00:09:00</td>\n",
       "    </tr>\n",
       "    <tr>\n",
       "      <th>4</th>\n",
       "      <td>sjlHnJvXdQs</td>\n",
       "      <td>iPhone X (parody)</td>\n",
       "      <td>jacksfilms</td>\n",
       "      <td>23</td>\n",
       "      <td>jacksfilms|parody|parodies|iphone|iphone x|iph...</td>\n",
       "      <td>1168130</td>\n",
       "      <td>96666</td>\n",
       "      <td>568</td>\n",
       "      <td>6666</td>\n",
       "      <td>https://i.ytimg.com/vi/sjlHnJvXdQs/default.jpg</td>\n",
       "      <td>2020-01-13 00:09:00</td>\n",
       "    </tr>\n",
       "  </tbody>\n",
       "</table>\n",
       "</div>"
      ],
      "text/plain": [
       "      video_id                                              title  \\\n",
       "0  XpVt6Z1Gjjo  1 YEAR OF VLOGGING -- HOW LOGAN PAUL CHANGED Y...   \n",
       "1  K4wEI5zhHB0            iPhone X — Introducing iPhone X — Apple   \n",
       "2  cLdxuaxaQwc                                        My Response   \n",
       "3  WYYvHb03Eog                          Apple iPhone X first look   \n",
       "4  sjlHnJvXdQs                                  iPhone X (parody)   \n",
       "\n",
       "      channel_title  category_id  \\\n",
       "0  Logan Paul Vlogs           24   \n",
       "1             Apple           28   \n",
       "2         PewDiePie           22   \n",
       "3         The Verge           28   \n",
       "4        jacksfilms           23   \n",
       "\n",
       "                                                tags    views   likes  \\\n",
       "0  logan paul vlog|logan paul|logan|paul|olympics...  4394029  320053   \n",
       "1  Apple|iPhone 10|iPhone Ten|iPhone|Portrait Lig...  7860119  185853   \n",
       "2                                             [none]  5845909  576597   \n",
       "3  apple iphone x hands on|Apple iPhone X|iPhone ...  2642103   24975   \n",
       "4  jacksfilms|parody|parodies|iphone|iphone x|iph...  1168130   96666   \n",
       "\n",
       "   dislikes  comment_total                                  thumbnail_link  \\\n",
       "0      5931          46245  https://i.ytimg.com/vi/XpVt6Z1Gjjo/default.jpg   \n",
       "1     26679              0  https://i.ytimg.com/vi/K4wEI5zhHB0/default.jpg   \n",
       "2     39774         170708  https://i.ytimg.com/vi/cLdxuaxaQwc/default.jpg   \n",
       "3      4542          12829  https://i.ytimg.com/vi/WYYvHb03Eog/default.jpg   \n",
       "4       568           6666  https://i.ytimg.com/vi/sjlHnJvXdQs/default.jpg   \n",
       "\n",
       "                 date  \n",
       "0 2020-01-13 00:09:00  \n",
       "1 2020-01-13 00:09:00  \n",
       "2 2020-01-13 00:09:00  \n",
       "3 2020-01-13 00:09:00  \n",
       "4 2020-01-13 00:09:00  "
      ]
     },
     "execution_count": 89,
     "metadata": {},
     "output_type": "execute_result"
    }
   ],
   "source": [
    "from datetime import datetime\n",
    "df_youtube = pd.read_csv(\"./data/USvideos.csv\", parse_dates=['date'])\n",
    "df_youtube['date'] = df_youtube['date'] + '.2020'\n",
    "df_youtube['date'] = df_youtube['date'].apply(lambda x : datetime.strptime(x, \"%d.%M.%Y\"))\n",
    "df_youtube.head()"
   ]
  },
  {
   "cell_type": "markdown",
   "metadata": {},
   "source": [
    "## Question 0"
   ]
  },
  {
   "cell_type": "markdown",
   "metadata": {},
   "source": [
    "### Nettoyer les données"
   ]
  },
  {
   "cell_type": "code",
   "execution_count": 90,
   "metadata": {},
   "outputs": [
    {
     "data": {
      "text/html": [
       "<div>\n",
       "<style scoped>\n",
       "    .dataframe tbody tr th:only-of-type {\n",
       "        vertical-align: middle;\n",
       "    }\n",
       "\n",
       "    .dataframe tbody tr th {\n",
       "        vertical-align: top;\n",
       "    }\n",
       "\n",
       "    .dataframe thead th {\n",
       "        text-align: right;\n",
       "    }\n",
       "</style>\n",
       "<table border=\"1\" class=\"dataframe\">\n",
       "  <thead>\n",
       "    <tr style=\"text-align: right;\">\n",
       "      <th></th>\n",
       "      <th>kind</th>\n",
       "      <th>etag</th>\n",
       "      <th>id</th>\n",
       "      <th>channelID</th>\n",
       "      <th>title</th>\n",
       "      <th>assignable</th>\n",
       "      <th>category_id</th>\n",
       "    </tr>\n",
       "  </thead>\n",
       "  <tbody>\n",
       "    <tr>\n",
       "      <th>0</th>\n",
       "      <td>youtube#videoCategory</td>\n",
       "      <td>\"m2yskBQFythfE4irbTIeOgYYfBU/Xy1mB4_yLrHy_BmKm...</td>\n",
       "      <td>1</td>\n",
       "      <td>UCBR8-60-B28hp2BmDPdntcQ</td>\n",
       "      <td>Film &amp; Animation</td>\n",
       "      <td>True</td>\n",
       "      <td>1</td>\n",
       "    </tr>\n",
       "    <tr>\n",
       "      <th>1</th>\n",
       "      <td>youtube#videoCategory</td>\n",
       "      <td>\"m2yskBQFythfE4irbTIeOgYYfBU/UZ1oLIIz2dxIhO45Z...</td>\n",
       "      <td>2</td>\n",
       "      <td>UCBR8-60-B28hp2BmDPdntcQ</td>\n",
       "      <td>Autos &amp; Vehicles</td>\n",
       "      <td>True</td>\n",
       "      <td>2</td>\n",
       "    </tr>\n",
       "    <tr>\n",
       "      <th>2</th>\n",
       "      <td>youtube#videoCategory</td>\n",
       "      <td>\"m2yskBQFythfE4irbTIeOgYYfBU/nqRIq97-xe5XRZTxb...</td>\n",
       "      <td>10</td>\n",
       "      <td>UCBR8-60-B28hp2BmDPdntcQ</td>\n",
       "      <td>Music</td>\n",
       "      <td>True</td>\n",
       "      <td>10</td>\n",
       "    </tr>\n",
       "    <tr>\n",
       "      <th>3</th>\n",
       "      <td>youtube#videoCategory</td>\n",
       "      <td>\"m2yskBQFythfE4irbTIeOgYYfBU/HwXKamM1Q20q9BN-o...</td>\n",
       "      <td>15</td>\n",
       "      <td>UCBR8-60-B28hp2BmDPdntcQ</td>\n",
       "      <td>Pets &amp; Animals</td>\n",
       "      <td>True</td>\n",
       "      <td>15</td>\n",
       "    </tr>\n",
       "    <tr>\n",
       "      <th>4</th>\n",
       "      <td>youtube#videoCategory</td>\n",
       "      <td>\"m2yskBQFythfE4irbTIeOgYYfBU/9GQMSRjrZdHeb1OEM...</td>\n",
       "      <td>17</td>\n",
       "      <td>UCBR8-60-B28hp2BmDPdntcQ</td>\n",
       "      <td>Sports</td>\n",
       "      <td>True</td>\n",
       "      <td>17</td>\n",
       "    </tr>\n",
       "  </tbody>\n",
       "</table>\n",
       "</div>"
      ],
      "text/plain": [
       "                    kind                                               etag  \\\n",
       "0  youtube#videoCategory  \"m2yskBQFythfE4irbTIeOgYYfBU/Xy1mB4_yLrHy_BmKm...   \n",
       "1  youtube#videoCategory  \"m2yskBQFythfE4irbTIeOgYYfBU/UZ1oLIIz2dxIhO45Z...   \n",
       "2  youtube#videoCategory  \"m2yskBQFythfE4irbTIeOgYYfBU/nqRIq97-xe5XRZTxb...   \n",
       "3  youtube#videoCategory  \"m2yskBQFythfE4irbTIeOgYYfBU/HwXKamM1Q20q9BN-o...   \n",
       "4  youtube#videoCategory  \"m2yskBQFythfE4irbTIeOgYYfBU/9GQMSRjrZdHeb1OEM...   \n",
       "\n",
       "   id                 channelID             title  assignable  category_id  \n",
       "0   1  UCBR8-60-B28hp2BmDPdntcQ  Film & Animation        True            1  \n",
       "1   2  UCBR8-60-B28hp2BmDPdntcQ  Autos & Vehicles        True            2  \n",
       "2  10  UCBR8-60-B28hp2BmDPdntcQ             Music        True           10  \n",
       "3  15  UCBR8-60-B28hp2BmDPdntcQ    Pets & Animals        True           15  \n",
       "4  17  UCBR8-60-B28hp2BmDPdntcQ            Sports        True           17  "
      ]
     },
     "execution_count": 90,
     "metadata": {},
     "output_type": "execute_result"
    }
   ],
   "source": [
    "import json\n",
    "with open(\"./data/US_category_id.json\",'r') as load_f:\n",
    "    df_json = json.load(load_f)\n",
    "    for element in df_json['items']:\n",
    "        element['channelID'] = element['snippet']['channelId']\n",
    "        element['title']=element['snippet']['title']\n",
    "        element['assignable']=element['snippet']['assignable']\n",
    "        element.pop('snippet')\n",
    "    df_json = pd.DataFrame.from_dict(df_json['items'])\n",
    "df_json[['category_id']] = df_json[['id']].astype(int)\n",
    "\n",
    "df_json.head()"
   ]
  },
  {
   "cell_type": "code",
   "execution_count": 91,
   "metadata": {},
   "outputs": [],
   "source": [
    "\n",
    "df_youtube = df_youtube.rename(columns={\"id\":\"category_id\"})"
   ]
  },
  {
   "cell_type": "code",
   "execution_count": 92,
   "metadata": {},
   "outputs": [
    {
     "data": {
      "text/plain": [
       "video_id                  object\n",
       "title                     object\n",
       "channel_title             object\n",
       "category_id                int64\n",
       "tags                      object\n",
       "views                      int64\n",
       "likes                      int64\n",
       "dislikes                   int64\n",
       "comment_total              int64\n",
       "thumbnail_link            object\n",
       "date              datetime64[ns]\n",
       "dtype: object"
      ]
     },
     "execution_count": 92,
     "metadata": {},
     "output_type": "execute_result"
    }
   ],
   "source": [
    "df_youtube.dtypes\n"
   ]
  },
  {
   "cell_type": "code",
   "execution_count": 93,
   "metadata": {},
   "outputs": [],
   "source": [
    "df_youtube = pd.merge(df_youtube, df_json, left_on='category_id', right_on='category_id')\n"
   ]
  },
  {
   "cell_type": "code",
   "execution_count": 94,
   "metadata": {},
   "outputs": [
    {
     "data": {
      "text/html": [
       "<div>\n",
       "<style scoped>\n",
       "    .dataframe tbody tr th:only-of-type {\n",
       "        vertical-align: middle;\n",
       "    }\n",
       "\n",
       "    .dataframe tbody tr th {\n",
       "        vertical-align: top;\n",
       "    }\n",
       "\n",
       "    .dataframe thead th {\n",
       "        text-align: right;\n",
       "    }\n",
       "</style>\n",
       "<table border=\"1\" class=\"dataframe\">\n",
       "  <thead>\n",
       "    <tr style=\"text-align: right;\">\n",
       "      <th></th>\n",
       "      <th>_id</th>\n",
       "      <th>title_x</th>\n",
       "      <th>channel_title</th>\n",
       "      <th>category_id</th>\n",
       "      <th>tags</th>\n",
       "      <th>views</th>\n",
       "      <th>likes</th>\n",
       "      <th>dislikes</th>\n",
       "      <th>comment_total</th>\n",
       "      <th>thumbnail_link</th>\n",
       "      <th>date</th>\n",
       "      <th>kind</th>\n",
       "      <th>etag</th>\n",
       "      <th>id</th>\n",
       "      <th>channelID</th>\n",
       "      <th>title_y</th>\n",
       "      <th>assignable</th>\n",
       "    </tr>\n",
       "  </thead>\n",
       "  <tbody>\n",
       "    <tr>\n",
       "      <th>0</th>\n",
       "      <td>XpVt6Z1Gjjo</td>\n",
       "      <td>1 YEAR OF VLOGGING -- HOW LOGAN PAUL CHANGED Y...</td>\n",
       "      <td>Logan Paul Vlogs</td>\n",
       "      <td>24</td>\n",
       "      <td>logan paul vlog|logan paul|logan|paul|olympics...</td>\n",
       "      <td>4394029</td>\n",
       "      <td>320053</td>\n",
       "      <td>5931</td>\n",
       "      <td>46245</td>\n",
       "      <td>https://i.ytimg.com/vi/XpVt6Z1Gjjo/default.jpg</td>\n",
       "      <td>2020-01-13 00:09:00</td>\n",
       "      <td>youtube#videoCategory</td>\n",
       "      <td>\"m2yskBQFythfE4irbTIeOgYYfBU/UVB9oxX2Bvqa_w_y3...</td>\n",
       "      <td>24</td>\n",
       "      <td>UCBR8-60-B28hp2BmDPdntcQ</td>\n",
       "      <td>Entertainment</td>\n",
       "      <td>True</td>\n",
       "    </tr>\n",
       "    <tr>\n",
       "      <th>1</th>\n",
       "      <td>4MkC65emkG4</td>\n",
       "      <td>Hand In Hand A Benefit For Hurricane Relief | MTV</td>\n",
       "      <td>MTV</td>\n",
       "      <td>24</td>\n",
       "      <td>mtv|video|online|official|tv|television|watch|...</td>\n",
       "      <td>274358</td>\n",
       "      <td>9215</td>\n",
       "      <td>477</td>\n",
       "      <td>838</td>\n",
       "      <td>https://i.ytimg.com/vi/4MkC65emkG4/default.jpg</td>\n",
       "      <td>2020-01-13 00:09:00</td>\n",
       "      <td>youtube#videoCategory</td>\n",
       "      <td>\"m2yskBQFythfE4irbTIeOgYYfBU/UVB9oxX2Bvqa_w_y3...</td>\n",
       "      <td>24</td>\n",
       "      <td>UCBR8-60-B28hp2BmDPdntcQ</td>\n",
       "      <td>Entertainment</td>\n",
       "      <td>True</td>\n",
       "    </tr>\n",
       "    <tr>\n",
       "      <th>2</th>\n",
       "      <td>vu_9muoxT50</td>\n",
       "      <td>Colin Cloud: Mind Reader Predicts Your Tweets ...</td>\n",
       "      <td>America's Got Talent</td>\n",
       "      <td>24</td>\n",
       "      <td>America's Got Talent 2017|america's got talent...</td>\n",
       "      <td>473691</td>\n",
       "      <td>14740</td>\n",
       "      <td>415</td>\n",
       "      <td>1696</td>\n",
       "      <td>https://i.ytimg.com/vi/vu_9muoxT50/default.jpg</td>\n",
       "      <td>2020-01-13 00:09:00</td>\n",
       "      <td>youtube#videoCategory</td>\n",
       "      <td>\"m2yskBQFythfE4irbTIeOgYYfBU/UVB9oxX2Bvqa_w_y3...</td>\n",
       "      <td>24</td>\n",
       "      <td>UCBR8-60-B28hp2BmDPdntcQ</td>\n",
       "      <td>Entertainment</td>\n",
       "      <td>True</td>\n",
       "    </tr>\n",
       "    <tr>\n",
       "      <th>3</th>\n",
       "      <td>ZQK1F0wz6z4</td>\n",
       "      <td>What Do You Want to Eat?!</td>\n",
       "      <td>Wong Fu Productions</td>\n",
       "      <td>24</td>\n",
       "      <td>panda|what should we eat|buzzfeed|comedy|boyfr...</td>\n",
       "      <td>282858</td>\n",
       "      <td>14870</td>\n",
       "      <td>300</td>\n",
       "      <td>1398</td>\n",
       "      <td>https://i.ytimg.com/vi/ZQK1F0wz6z4/default.jpg</td>\n",
       "      <td>2020-01-13 00:09:00</td>\n",
       "      <td>youtube#videoCategory</td>\n",
       "      <td>\"m2yskBQFythfE4irbTIeOgYYfBU/UVB9oxX2Bvqa_w_y3...</td>\n",
       "      <td>24</td>\n",
       "      <td>UCBR8-60-B28hp2BmDPdntcQ</td>\n",
       "      <td>Entertainment</td>\n",
       "      <td>True</td>\n",
       "    </tr>\n",
       "    <tr>\n",
       "      <th>4</th>\n",
       "      <td>5ywKal6-anc</td>\n",
       "      <td>Gigi Hadid Loses High Heel During Fashion Week...</td>\n",
       "      <td>TMZ</td>\n",
       "      <td>24</td>\n",
       "      <td>TMZ2016FS11221|TMZ|Hollywood|Celebrity|Enterta...</td>\n",
       "      <td>703750</td>\n",
       "      <td>2921</td>\n",
       "      <td>2196</td>\n",
       "      <td>1042</td>\n",
       "      <td>https://i.ytimg.com/vi/5ywKal6-anc/default.jpg</td>\n",
       "      <td>2020-01-13 00:09:00</td>\n",
       "      <td>youtube#videoCategory</td>\n",
       "      <td>\"m2yskBQFythfE4irbTIeOgYYfBU/UVB9oxX2Bvqa_w_y3...</td>\n",
       "      <td>24</td>\n",
       "      <td>UCBR8-60-B28hp2BmDPdntcQ</td>\n",
       "      <td>Entertainment</td>\n",
       "      <td>True</td>\n",
       "    </tr>\n",
       "    <tr>\n",
       "      <th>...</th>\n",
       "      <td>...</td>\n",
       "      <td>...</td>\n",
       "      <td>...</td>\n",
       "      <td>...</td>\n",
       "      <td>...</td>\n",
       "      <td>...</td>\n",
       "      <td>...</td>\n",
       "      <td>...</td>\n",
       "      <td>...</td>\n",
       "      <td>...</td>\n",
       "      <td>...</td>\n",
       "      <td>...</td>\n",
       "      <td>...</td>\n",
       "      <td>...</td>\n",
       "      <td>...</td>\n",
       "      <td>...</td>\n",
       "      <td>...</td>\n",
       "    </tr>\n",
       "    <tr>\n",
       "      <th>7987</th>\n",
       "      <td>ThPzNokG5uE</td>\n",
       "      <td>Japanese Candy Art</td>\n",
       "      <td>INSIDER</td>\n",
       "      <td>19</td>\n",
       "      <td>Shinobu Ichiyanagi|Japanese|Candy|Art|Amezaiku...</td>\n",
       "      <td>262878</td>\n",
       "      <td>7594</td>\n",
       "      <td>62</td>\n",
       "      <td>663</td>\n",
       "      <td>https://i.ytimg.com/vi/ThPzNokG5uE/default.jpg</td>\n",
       "      <td>2020-01-19 00:01:00</td>\n",
       "      <td>youtube#videoCategory</td>\n",
       "      <td>\"m2yskBQFythfE4irbTIeOgYYfBU/M-3iD9dwK7YJCafRf...</td>\n",
       "      <td>19</td>\n",
       "      <td>UCBR8-60-B28hp2BmDPdntcQ</td>\n",
       "      <td>Travel &amp; Events</td>\n",
       "      <td>True</td>\n",
       "    </tr>\n",
       "    <tr>\n",
       "      <th>7988</th>\n",
       "      <td>18HD7Y3tT9o</td>\n",
       "      <td>DEEP Chinese Street Food Tour in Sichuan, Chin...</td>\n",
       "      <td>The Food Ranger</td>\n",
       "      <td>19</td>\n",
       "      <td>the food ranger|trevor james|food ranger|food|...</td>\n",
       "      <td>383835</td>\n",
       "      <td>10457</td>\n",
       "      <td>275</td>\n",
       "      <td>1948</td>\n",
       "      <td>https://i.ytimg.com/vi/18HD7Y3tT9o/default.jpg</td>\n",
       "      <td>2020-01-19 00:01:00</td>\n",
       "      <td>youtube#videoCategory</td>\n",
       "      <td>\"m2yskBQFythfE4irbTIeOgYYfBU/M-3iD9dwK7YJCafRf...</td>\n",
       "      <td>19</td>\n",
       "      <td>UCBR8-60-B28hp2BmDPdntcQ</td>\n",
       "      <td>Travel &amp; Events</td>\n",
       "      <td>True</td>\n",
       "    </tr>\n",
       "    <tr>\n",
       "      <th>7989</th>\n",
       "      <td>18HD7Y3tT9o</td>\n",
       "      <td>DEEP Chinese Street Food Tour in Sichuan, Chin...</td>\n",
       "      <td>The Food Ranger</td>\n",
       "      <td>19</td>\n",
       "      <td>the food ranger|trevor james|food ranger|food|...</td>\n",
       "      <td>396811</td>\n",
       "      <td>10633</td>\n",
       "      <td>279</td>\n",
       "      <td>1552</td>\n",
       "      <td>https://i.ytimg.com/vi/18HD7Y3tT9o/default.jpg</td>\n",
       "      <td>2020-01-20 00:01:00</td>\n",
       "      <td>youtube#videoCategory</td>\n",
       "      <td>\"m2yskBQFythfE4irbTIeOgYYfBU/M-3iD9dwK7YJCafRf...</td>\n",
       "      <td>19</td>\n",
       "      <td>UCBR8-60-B28hp2BmDPdntcQ</td>\n",
       "      <td>Travel &amp; Events</td>\n",
       "      <td>True</td>\n",
       "    </tr>\n",
       "    <tr>\n",
       "      <th>7990</th>\n",
       "      <td>5mdk5oz6l3w</td>\n",
       "      <td>Pixel 2: Squeeze to access features (CNET News)</td>\n",
       "      <td>CNET</td>\n",
       "      <td>43</td>\n",
       "      <td>Google|Pixel 2|Squeeze|Google Assistant|Phones...</td>\n",
       "      <td>8259</td>\n",
       "      <td>111</td>\n",
       "      <td>8</td>\n",
       "      <td>37</td>\n",
       "      <td>https://i.ytimg.com/vi/5mdk5oz6l3w/default.jpg</td>\n",
       "      <td>2020-01-06 00:01:00</td>\n",
       "      <td>youtube#videoCategory</td>\n",
       "      <td>\"m2yskBQFythfE4irbTIeOgYYfBU/0n9MJVCDLpA8q7aiG...</td>\n",
       "      <td>43</td>\n",
       "      <td>UCBR8-60-B28hp2BmDPdntcQ</td>\n",
       "      <td>Shows</td>\n",
       "      <td>False</td>\n",
       "    </tr>\n",
       "    <tr>\n",
       "      <th>7991</th>\n",
       "      <td>5mdk5oz6l3w</td>\n",
       "      <td>Pixel 2: Squeeze to access features (CNET News)</td>\n",
       "      <td>CNET</td>\n",
       "      <td>43</td>\n",
       "      <td>Google|Pixel 2|Squeeze|Google Assistant|Phones...</td>\n",
       "      <td>8726</td>\n",
       "      <td>114</td>\n",
       "      <td>9</td>\n",
       "      <td>37</td>\n",
       "      <td>https://i.ytimg.com/vi/5mdk5oz6l3w/default.jpg</td>\n",
       "      <td>2020-01-07 00:01:00</td>\n",
       "      <td>youtube#videoCategory</td>\n",
       "      <td>\"m2yskBQFythfE4irbTIeOgYYfBU/0n9MJVCDLpA8q7aiG...</td>\n",
       "      <td>43</td>\n",
       "      <td>UCBR8-60-B28hp2BmDPdntcQ</td>\n",
       "      <td>Shows</td>\n",
       "      <td>False</td>\n",
       "    </tr>\n",
       "  </tbody>\n",
       "</table>\n",
       "<p>7992 rows × 17 columns</p>\n",
       "</div>"
      ],
      "text/plain": [
       "              _id                                            title_x  \\\n",
       "0     XpVt6Z1Gjjo  1 YEAR OF VLOGGING -- HOW LOGAN PAUL CHANGED Y...   \n",
       "1     4MkC65emkG4  Hand In Hand A Benefit For Hurricane Relief | MTV   \n",
       "2     vu_9muoxT50  Colin Cloud: Mind Reader Predicts Your Tweets ...   \n",
       "3     ZQK1F0wz6z4                          What Do You Want to Eat?!   \n",
       "4     5ywKal6-anc  Gigi Hadid Loses High Heel During Fashion Week...   \n",
       "...           ...                                                ...   \n",
       "7987  ThPzNokG5uE                                 Japanese Candy Art   \n",
       "7988  18HD7Y3tT9o  DEEP Chinese Street Food Tour in Sichuan, Chin...   \n",
       "7989  18HD7Y3tT9o  DEEP Chinese Street Food Tour in Sichuan, Chin...   \n",
       "7990  5mdk5oz6l3w    Pixel 2: Squeeze to access features (CNET News)   \n",
       "7991  5mdk5oz6l3w    Pixel 2: Squeeze to access features (CNET News)   \n",
       "\n",
       "             channel_title  category_id  \\\n",
       "0         Logan Paul Vlogs           24   \n",
       "1                      MTV           24   \n",
       "2     America's Got Talent           24   \n",
       "3      Wong Fu Productions           24   \n",
       "4                      TMZ           24   \n",
       "...                    ...          ...   \n",
       "7987               INSIDER           19   \n",
       "7988       The Food Ranger           19   \n",
       "7989       The Food Ranger           19   \n",
       "7990                  CNET           43   \n",
       "7991                  CNET           43   \n",
       "\n",
       "                                                   tags    views   likes  \\\n",
       "0     logan paul vlog|logan paul|logan|paul|olympics...  4394029  320053   \n",
       "1     mtv|video|online|official|tv|television|watch|...   274358    9215   \n",
       "2     America's Got Talent 2017|america's got talent...   473691   14740   \n",
       "3     panda|what should we eat|buzzfeed|comedy|boyfr...   282858   14870   \n",
       "4     TMZ2016FS11221|TMZ|Hollywood|Celebrity|Enterta...   703750    2921   \n",
       "...                                                 ...      ...     ...   \n",
       "7987  Shinobu Ichiyanagi|Japanese|Candy|Art|Amezaiku...   262878    7594   \n",
       "7988  the food ranger|trevor james|food ranger|food|...   383835   10457   \n",
       "7989  the food ranger|trevor james|food ranger|food|...   396811   10633   \n",
       "7990  Google|Pixel 2|Squeeze|Google Assistant|Phones...     8259     111   \n",
       "7991  Google|Pixel 2|Squeeze|Google Assistant|Phones...     8726     114   \n",
       "\n",
       "      dislikes  comment_total                                  thumbnail_link  \\\n",
       "0         5931          46245  https://i.ytimg.com/vi/XpVt6Z1Gjjo/default.jpg   \n",
       "1          477            838  https://i.ytimg.com/vi/4MkC65emkG4/default.jpg   \n",
       "2          415           1696  https://i.ytimg.com/vi/vu_9muoxT50/default.jpg   \n",
       "3          300           1398  https://i.ytimg.com/vi/ZQK1F0wz6z4/default.jpg   \n",
       "4         2196           1042  https://i.ytimg.com/vi/5ywKal6-anc/default.jpg   \n",
       "...        ...            ...                                             ...   \n",
       "7987        62            663  https://i.ytimg.com/vi/ThPzNokG5uE/default.jpg   \n",
       "7988       275           1948  https://i.ytimg.com/vi/18HD7Y3tT9o/default.jpg   \n",
       "7989       279           1552  https://i.ytimg.com/vi/18HD7Y3tT9o/default.jpg   \n",
       "7990         8             37  https://i.ytimg.com/vi/5mdk5oz6l3w/default.jpg   \n",
       "7991         9             37  https://i.ytimg.com/vi/5mdk5oz6l3w/default.jpg   \n",
       "\n",
       "                    date                   kind  \\\n",
       "0    2020-01-13 00:09:00  youtube#videoCategory   \n",
       "1    2020-01-13 00:09:00  youtube#videoCategory   \n",
       "2    2020-01-13 00:09:00  youtube#videoCategory   \n",
       "3    2020-01-13 00:09:00  youtube#videoCategory   \n",
       "4    2020-01-13 00:09:00  youtube#videoCategory   \n",
       "...                  ...                    ...   \n",
       "7987 2020-01-19 00:01:00  youtube#videoCategory   \n",
       "7988 2020-01-19 00:01:00  youtube#videoCategory   \n",
       "7989 2020-01-20 00:01:00  youtube#videoCategory   \n",
       "7990 2020-01-06 00:01:00  youtube#videoCategory   \n",
       "7991 2020-01-07 00:01:00  youtube#videoCategory   \n",
       "\n",
       "                                                   etag  id  \\\n",
       "0     \"m2yskBQFythfE4irbTIeOgYYfBU/UVB9oxX2Bvqa_w_y3...  24   \n",
       "1     \"m2yskBQFythfE4irbTIeOgYYfBU/UVB9oxX2Bvqa_w_y3...  24   \n",
       "2     \"m2yskBQFythfE4irbTIeOgYYfBU/UVB9oxX2Bvqa_w_y3...  24   \n",
       "3     \"m2yskBQFythfE4irbTIeOgYYfBU/UVB9oxX2Bvqa_w_y3...  24   \n",
       "4     \"m2yskBQFythfE4irbTIeOgYYfBU/UVB9oxX2Bvqa_w_y3...  24   \n",
       "...                                                 ...  ..   \n",
       "7987  \"m2yskBQFythfE4irbTIeOgYYfBU/M-3iD9dwK7YJCafRf...  19   \n",
       "7988  \"m2yskBQFythfE4irbTIeOgYYfBU/M-3iD9dwK7YJCafRf...  19   \n",
       "7989  \"m2yskBQFythfE4irbTIeOgYYfBU/M-3iD9dwK7YJCafRf...  19   \n",
       "7990  \"m2yskBQFythfE4irbTIeOgYYfBU/0n9MJVCDLpA8q7aiG...  43   \n",
       "7991  \"m2yskBQFythfE4irbTIeOgYYfBU/0n9MJVCDLpA8q7aiG...  43   \n",
       "\n",
       "                     channelID          title_y  assignable  \n",
       "0     UCBR8-60-B28hp2BmDPdntcQ    Entertainment        True  \n",
       "1     UCBR8-60-B28hp2BmDPdntcQ    Entertainment        True  \n",
       "2     UCBR8-60-B28hp2BmDPdntcQ    Entertainment        True  \n",
       "3     UCBR8-60-B28hp2BmDPdntcQ    Entertainment        True  \n",
       "4     UCBR8-60-B28hp2BmDPdntcQ    Entertainment        True  \n",
       "...                        ...              ...         ...  \n",
       "7987  UCBR8-60-B28hp2BmDPdntcQ  Travel & Events        True  \n",
       "7988  UCBR8-60-B28hp2BmDPdntcQ  Travel & Events        True  \n",
       "7989  UCBR8-60-B28hp2BmDPdntcQ  Travel & Events        True  \n",
       "7990  UCBR8-60-B28hp2BmDPdntcQ            Shows       False  \n",
       "7991  UCBR8-60-B28hp2BmDPdntcQ            Shows       False  \n",
       "\n",
       "[7992 rows x 17 columns]"
      ]
     },
     "execution_count": 94,
     "metadata": {},
     "output_type": "execute_result"
    }
   ],
   "source": [
    "df_youtube.rename(columns={\"video_id\" : \"_id\"})"
   ]
  },
  {
   "cell_type": "code",
   "execution_count": 95,
   "metadata": {},
   "outputs": [
    {
     "data": {
      "text/plain": [
       "Index(['video_id', 'title_x', 'channel_title', 'category_id', 'tags', 'views',\n",
       "       'likes', 'dislikes', 'comment_total', 'thumbnail_link', 'date', 'kind',\n",
       "       'etag', 'id', 'channelID', 'title_y', 'assignable'],\n",
       "      dtype='object')"
      ]
     },
     "execution_count": 95,
     "metadata": {},
     "output_type": "execute_result"
    }
   ],
   "source": [
    "df_youtube.columns"
   ]
  },
  {
   "cell_type": "markdown",
   "metadata": {
    "slideshow": {
     "slide_type": "slide"
    }
   },
   "source": [
    "### Importer les données"
   ]
  },
  {
   "cell_type": "code",
   "execution_count": 96,
   "metadata": {},
   "outputs": [],
   "source": [
    "documents = df_youtube.to_dict(orient = 'records')"
   ]
  },
  {
   "cell_type": "code",
   "execution_count": 97,
   "metadata": {},
   "outputs": [
    {
     "data": {
      "text/plain": [
       "<pymongo.results.InsertManyResult at 0x7f861367be40>"
      ]
     },
     "execution_count": 97,
     "metadata": {},
     "output_type": "execute_result"
    }
   ],
   "source": [
    "collection.insert_many(documents)"
   ]
  },
  {
   "cell_type": "code",
   "execution_count": 98,
   "metadata": {},
   "outputs": [
    {
     "data": {
      "text/plain": [
       "{'_id': ObjectId('5fc92a85f390b0bbb28d8926'),\n",
       " 'video_id': 'XpVt6Z1Gjjo',\n",
       " 'title_x': '1 YEAR OF VLOGGING -- HOW LOGAN PAUL CHANGED YOUTUBE FOREVER!',\n",
       " 'channel_title': 'Logan Paul Vlogs',\n",
       " 'category_id': 24,\n",
       " 'tags': 'logan paul vlog|logan paul|logan|paul|olympics|logan paul youtube|vlog|daily|comedy|hollywood|parrot|maverick|bird|maverick clothes|diamond play button|logan paul diamond play button|10M subscribers|logan paul 1 year vlogging|1 year vlog|dwarf mamba play button|logan paul history|youtube history|10M|10M plaque|youtube button|diamond button|logang|logang 4 life',\n",
       " 'views': 4394029,\n",
       " 'likes': 320053,\n",
       " 'dislikes': 5931,\n",
       " 'comment_total': 46245,\n",
       " 'thumbnail_link': 'https://i.ytimg.com/vi/XpVt6Z1Gjjo/default.jpg',\n",
       " 'date': datetime.datetime(2020, 1, 13, 0, 9),\n",
       " 'kind': 'youtube#videoCategory',\n",
       " 'etag': '\"m2yskBQFythfE4irbTIeOgYYfBU/UVB9oxX2Bvqa_w_y3vXSLVK5E_s\"',\n",
       " 'id': '24',\n",
       " 'channelID': 'UCBR8-60-B28hp2BmDPdntcQ',\n",
       " 'title_y': 'Entertainment',\n",
       " 'assignable': True}"
      ]
     },
     "execution_count": 98,
     "metadata": {},
     "output_type": "execute_result"
    }
   ],
   "source": [
    "collection.find_one()"
   ]
  },
  {
   "cell_type": "markdown",
   "metadata": {},
   "source": [
    "## Question 1  "
   ]
  },
  {
   "cell_type": "code",
   "execution_count": 99,
   "metadata": {},
   "outputs": [],
   "source": [
    "cursor = collection.find({\"channel_title\":\"Apple\"})"
   ]
  },
  {
   "cell_type": "code",
   "execution_count": 100,
   "metadata": {},
   "outputs": [
    {
     "name": "stdout",
     "output_type": "stream",
     "text": [
      "-------\n",
      "{'_id': ObjectId('5fc92a85f390b0bbb28d8f67'), 'video_id': 'K4wEI5zhHB0', 'title_x': 'iPhone X — Introducing iPhone X — Apple', 'channel_title': 'Apple', 'category_id': 28, 'tags': 'Apple|iPhone 10|iPhone Ten|iPhone|Portrait Lighting|A11 Bionic|augmented reality|emoji|animoji|Face ID|Apple Pay|camera|smartphone', 'views': 7860119, 'likes': 185853, 'dislikes': 26679, 'comment_total': 0, 'thumbnail_link': 'https://i.ytimg.com/vi/K4wEI5zhHB0/default.jpg', 'date': datetime.datetime(2020, 1, 13, 0, 9), 'kind': 'youtube#videoCategory', 'etag': '\"m2yskBQFythfE4irbTIeOgYYfBU/w5HjcTD82G_XA3xBctS30zS-JpQ\"', 'id': '28', 'channelID': 'UCBR8-60-B28hp2BmDPdntcQ', 'title_y': 'Science & Technology', 'assignable': True}\n",
      "-------\n",
      "{'_id': ObjectId('5fc92a85f390b0bbb28d8f77'), 'video_id': 'K4wEI5zhHB0', 'title_x': 'iPhone X — Introducing iPhone X — Apple', 'channel_title': 'Apple', 'category_id': 28, 'tags': 'Apple|iPhone 10|iPhone Ten|iPhone|Portrait Lighting|A11 Bionic|augmented reality|emoji|animoji|Face ID|Apple Pay|camera|smartphone', 'views': 12200526, 'likes': 258842, 'dislikes': 44339, 'comment_total': 0, 'thumbnail_link': 'https://i.ytimg.com/vi/K4wEI5zhHB0/default.jpg', 'date': datetime.datetime(2020, 1, 14, 0, 9), 'kind': 'youtube#videoCategory', 'etag': '\"m2yskBQFythfE4irbTIeOgYYfBU/w5HjcTD82G_XA3xBctS30zS-JpQ\"', 'id': '28', 'channelID': 'UCBR8-60-B28hp2BmDPdntcQ', 'title_y': 'Science & Technology', 'assignable': True}\n",
      "-------\n",
      "{'_id': ObjectId('5fc92a85f390b0bbb28d8f8a'), 'video_id': 'K4wEI5zhHB0', 'title_x': 'iPhone X — Introducing iPhone X — Apple', 'channel_title': 'Apple', 'category_id': 28, 'tags': 'Apple|iPhone 10|iPhone Ten|iPhone|Portrait Lighting|A11 Bionic|augmented reality|emoji|animoji|Face ID|Apple Pay|camera|smartphone', 'views': 15731493, 'likes': 321403, 'dislikes': 57528, 'comment_total': 0, 'thumbnail_link': 'https://i.ytimg.com/vi/K4wEI5zhHB0/default.jpg', 'date': datetime.datetime(2020, 1, 15, 0, 9), 'kind': 'youtube#videoCategory', 'etag': '\"m2yskBQFythfE4irbTIeOgYYfBU/w5HjcTD82G_XA3xBctS30zS-JpQ\"', 'id': '28', 'channelID': 'UCBR8-60-B28hp2BmDPdntcQ', 'title_y': 'Science & Technology', 'assignable': True}\n",
      "-------\n",
      "{'_id': ObjectId('5fc92a85f390b0bbb28d8f9f'), 'video_id': 'K4wEI5zhHB0', 'title_x': 'iPhone X — Introducing iPhone X — Apple', 'channel_title': 'Apple', 'category_id': 28, 'tags': 'Apple|iPhone 10|iPhone Ten|iPhone|Portrait Lighting|A11 Bionic|augmented reality|emoji|animoji|Face ID|Apple Pay|camera|smartphone', 'views': 18082737, 'likes': 359392, 'dislikes': 64933, 'comment_total': 0, 'thumbnail_link': 'https://i.ytimg.com/vi/K4wEI5zhHB0/default.jpg', 'date': datetime.datetime(2020, 1, 16, 0, 9), 'kind': 'youtube#videoCategory', 'etag': '\"m2yskBQFythfE4irbTIeOgYYfBU/w5HjcTD82G_XA3xBctS30zS-JpQ\"', 'id': '28', 'channelID': 'UCBR8-60-B28hp2BmDPdntcQ', 'title_y': 'Science & Technology', 'assignable': True}\n",
      "-------\n",
      "{'_id': ObjectId('5fc92a85f390b0bbb28d8fb1'), 'video_id': 'K4wEI5zhHB0', 'title_x': 'iPhone X — Introducing iPhone X — Apple', 'channel_title': 'Apple', 'category_id': 28, 'tags': 'Apple|iPhone 10|iPhone Ten|iPhone|Portrait Lighting|A11 Bionic|augmented reality|emoji|animoji|Face ID|Apple Pay|camera|smartphone', 'views': 19707391, 'likes': 381919, 'dislikes': 69465, 'comment_total': 0, 'thumbnail_link': 'https://i.ytimg.com/vi/K4wEI5zhHB0/default.jpg', 'date': datetime.datetime(2020, 1, 17, 0, 9), 'kind': 'youtube#videoCategory', 'etag': '\"m2yskBQFythfE4irbTIeOgYYfBU/w5HjcTD82G_XA3xBctS30zS-JpQ\"', 'id': '28', 'channelID': 'UCBR8-60-B28hp2BmDPdntcQ', 'title_y': 'Science & Technology', 'assignable': True}\n",
      "-------\n",
      "{'_id': ObjectId('5fc92a85f390b0bbb28d8fbf'), 'video_id': 'A9k88sMyiJM', 'title_x': 'Apple Watch Series 3 + Apple Music — Roll — Apple', 'channel_title': 'Apple', 'category_id': 28, 'tags': 'Apple|airpods|apple watch|apple watch series 3|apple watch cellular|apple watch 4g|apple music|40 million songs on your wrist|apple skateboard ad|apple train station ad|apple roll ad|apple watch skateboard ad|apple watch train station ad|apple watch roll ad|airpods skateboard ad|airpods train station ad|airpods roll ad|apple music skateboard ad|apple music train station ad|apple music roll ad|misbehaving', 'views': 782543, 'likes': 14647, 'dislikes': 1489, 'comment_total': 0, 'thumbnail_link': 'https://i.ytimg.com/vi/A9k88sMyiJM/default.jpg', 'date': datetime.datetime(2020, 1, 18, 0, 9), 'kind': 'youtube#videoCategory', 'etag': '\"m2yskBQFythfE4irbTIeOgYYfBU/w5HjcTD82G_XA3xBctS30zS-JpQ\"', 'id': '28', 'channelID': 'UCBR8-60-B28hp2BmDPdntcQ', 'title_y': 'Science & Technology', 'assignable': True}\n",
      "-------\n",
      "{'_id': ObjectId('5fc92a85f390b0bbb28d8fd3'), 'video_id': 'A9k88sMyiJM', 'title_x': 'Apple Watch Series 3 + Apple Music — Roll — Apple', 'channel_title': 'Apple', 'category_id': 28, 'tags': 'Apple|airpods|apple watch|apple watch series 3|apple watch cellular|apple watch 4g|apple music|40 million songs on your wrist|apple skateboard ad|apple train station ad|apple roll ad|apple watch skateboard ad|apple watch train station ad|apple watch roll ad|airpods skateboard ad|airpods train station ad|airpods roll ad|apple music skateboard ad|apple music train station ad|apple music roll ad|misbehaving', 'views': 3987580, 'likes': 26021, 'dislikes': 8719, 'comment_total': 0, 'thumbnail_link': 'https://i.ytimg.com/vi/A9k88sMyiJM/default.jpg', 'date': datetime.datetime(2020, 1, 19, 0, 9), 'kind': 'youtube#videoCategory', 'etag': '\"m2yskBQFythfE4irbTIeOgYYfBU/w5HjcTD82G_XA3xBctS30zS-JpQ\"', 'id': '28', 'channelID': 'UCBR8-60-B28hp2BmDPdntcQ', 'title_y': 'Science & Technology', 'assignable': True}\n",
      "-------\n",
      "{'_id': ObjectId('5fc92a85f390b0bbb28d8fe8'), 'video_id': 'A9k88sMyiJM', 'title_x': 'Apple Watch Series 3 + Apple Music — Roll — Apple', 'channel_title': 'Apple', 'category_id': 28, 'tags': 'Apple|airpods|apple watch|apple watch series 3|apple watch cellular|apple watch 4g|apple music|40 million songs on your wrist|apple skateboard ad|apple train station ad|apple roll ad|apple watch skateboard ad|apple watch train station ad|apple watch roll ad|airpods skateboard ad|airpods train station ad|airpods roll ad|apple music skateboard ad|apple music train station ad|apple music roll ad|misbehaving', 'views': 4112187, 'likes': 26609, 'dislikes': 8982, 'comment_total': 0, 'thumbnail_link': 'https://i.ytimg.com/vi/A9k88sMyiJM/default.jpg', 'date': datetime.datetime(2020, 1, 20, 0, 9), 'kind': 'youtube#videoCategory', 'etag': '\"m2yskBQFythfE4irbTIeOgYYfBU/w5HjcTD82G_XA3xBctS30zS-JpQ\"', 'id': '28', 'channelID': 'UCBR8-60-B28hp2BmDPdntcQ', 'title_y': 'Science & Technology', 'assignable': True}\n",
      "-------\n",
      "{'_id': ObjectId('5fc92a85f390b0bbb28d9075'), 'video_id': 'REZl-ANYKKY', 'title_x': 'iPhone 8 Plus — Portraits of Her  — Apple', 'channel_title': 'Apple', 'category_id': 28, 'tags': 'Apple|new|iPhone|iPhone 8|iPhone 8 Plus|iOS 11|4.7-inch|5.5-inch|Portrait Lighting|Shot on iPhone|camera|iphonography|smartphone|This Strange Effect|The Shacks', 'views': 117564, 'likes': 1240, 'dislikes': 459, 'comment_total': 0, 'thumbnail_link': 'https://i.ytimg.com/vi/REZl-ANYKKY/default.jpg', 'date': datetime.datetime(2020, 1, 3, 0, 1), 'kind': 'youtube#videoCategory', 'etag': '\"m2yskBQFythfE4irbTIeOgYYfBU/w5HjcTD82G_XA3xBctS30zS-JpQ\"', 'id': '28', 'channelID': 'UCBR8-60-B28hp2BmDPdntcQ', 'title_y': 'Science & Technology', 'assignable': True}\n",
      "-------\n",
      "{'_id': ObjectId('5fc92a85f390b0bbb28d9082'), 'video_id': 'REZl-ANYKKY', 'title_x': 'iPhone 8 Plus — Portraits of Her  — Apple', 'channel_title': 'Apple', 'category_id': 28, 'tags': 'Apple|new|iPhone|iPhone 8|iPhone 8 Plus|iOS 11|4.7-inch|5.5-inch|Portrait Lighting|Shot on iPhone|camera|iphonography|smartphone|This Strange Effect|The Shacks', 'views': 163024, 'likes': 1538, 'dislikes': 539, 'comment_total': 0, 'thumbnail_link': 'https://i.ytimg.com/vi/REZl-ANYKKY/default.jpg', 'date': datetime.datetime(2020, 1, 4, 0, 1), 'kind': 'youtube#videoCategory', 'etag': '\"m2yskBQFythfE4irbTIeOgYYfBU/w5HjcTD82G_XA3xBctS30zS-JpQ\"', 'id': '28', 'channelID': 'UCBR8-60-B28hp2BmDPdntcQ', 'title_y': 'Science & Technology', 'assignable': True}\n",
      "-------\n",
      "{'_id': ObjectId('5fc92a85f390b0bbb28d9091'), 'video_id': 'REZl-ANYKKY', 'title_x': 'iPhone 8 Plus — Portraits of Her  — Apple', 'channel_title': 'Apple', 'category_id': 28, 'tags': 'Apple|new|iPhone|iPhone 8|iPhone 8 Plus|iOS 11|4.7-inch|5.5-inch|Portrait Lighting|Shot on iPhone|camera|iphonography|smartphone|This Strange Effect|The Shacks', 'views': 183325, 'likes': 1700, 'dislikes': 570, 'comment_total': 0, 'thumbnail_link': 'https://i.ytimg.com/vi/REZl-ANYKKY/default.jpg', 'date': datetime.datetime(2020, 1, 5, 0, 1), 'kind': 'youtube#videoCategory', 'etag': '\"m2yskBQFythfE4irbTIeOgYYfBU/w5HjcTD82G_XA3xBctS30zS-JpQ\"', 'id': '28', 'channelID': 'UCBR8-60-B28hp2BmDPdntcQ', 'title_y': 'Science & Technology', 'assignable': True}\n"
     ]
    }
   ],
   "source": [
    "for document in cursor :\n",
    "    print('-------')\n",
    "    print(document)"
   ]
  },
  {
   "cell_type": "markdown",
   "metadata": {},
   "source": [
    "## Question 2"
   ]
  },
  {
   "cell_type": "code",
   "execution_count": 101,
   "metadata": {},
   "outputs": [
    {
     "data": {
      "text/plain": [
       "16"
      ]
     },
     "execution_count": 101,
     "metadata": {},
     "output_type": "execute_result"
    }
   ],
   "source": [
    "count= collection.aggregate([{\"$group\" : {\"_id\" : \"$category_id\"}}])\n",
    "len(list(count))"
   ]
  },
  {
   "cell_type": "markdown",
   "metadata": {},
   "source": [
    "## Question 3"
   ]
  },
  {
   "cell_type": "code",
   "execution_count": 102,
   "metadata": {},
   "outputs": [],
   "source": [
    "all_doc = collection.find({})\n"
   ]
  },
  {
   "cell_type": "code",
   "execution_count": 103,
   "metadata": {},
   "outputs": [],
   "source": [
    "for document in all_doc:\n",
    "    collection.update_one(document, {\"$set\": {\"tags\" : document[\"tags\"].split('|')}})\n"
   ]
  },
  {
   "cell_type": "code",
   "execution_count": 108,
   "metadata": {},
   "outputs": [
    {
     "data": {
      "text/plain": [
       "{'_id': ObjectId('5fc92a85f390b0bbb28d8926'),\n",
       " 'video_id': 'XpVt6Z1Gjjo',\n",
       " 'title_x': '1 YEAR OF VLOGGING -- HOW LOGAN PAUL CHANGED YOUTUBE FOREVER!',\n",
       " 'channel_title': 'Logan Paul Vlogs',\n",
       " 'category_id': 24,\n",
       " 'tags': ['logan paul vlog',\n",
       "  'logan paul',\n",
       "  'logan',\n",
       "  'paul',\n",
       "  'olympics',\n",
       "  'logan paul youtube',\n",
       "  'vlog',\n",
       "  'daily',\n",
       "  'comedy',\n",
       "  'hollywood',\n",
       "  'parrot',\n",
       "  'maverick',\n",
       "  'bird',\n",
       "  'maverick clothes',\n",
       "  'diamond play button',\n",
       "  'logan paul diamond play button',\n",
       "  '10M subscribers',\n",
       "  'logan paul 1 year vlogging',\n",
       "  '1 year vlog',\n",
       "  'dwarf mamba play button',\n",
       "  'logan paul history',\n",
       "  'youtube history',\n",
       "  '10M',\n",
       "  '10M plaque',\n",
       "  'youtube button',\n",
       "  'diamond button',\n",
       "  'logang',\n",
       "  'logang 4 life'],\n",
       " 'views': 4394029,\n",
       " 'likes': 320053,\n",
       " 'dislikes': 5931,\n",
       " 'comment_total': 46245,\n",
       " 'thumbnail_link': 'https://i.ytimg.com/vi/XpVt6Z1Gjjo/default.jpg',\n",
       " 'date': datetime.datetime(2020, 1, 13, 0, 9),\n",
       " 'kind': 'youtube#videoCategory',\n",
       " 'etag': '\"m2yskBQFythfE4irbTIeOgYYfBU/UVB9oxX2Bvqa_w_y3vXSLVK5E_s\"',\n",
       " 'id': '24',\n",
       " 'channelID': 'UCBR8-60-B28hp2BmDPdntcQ',\n",
       " 'title_y': 'Entertainment',\n",
       " 'assignable': True}"
      ]
     },
     "execution_count": 108,
     "metadata": {},
     "output_type": "execute_result"
    }
   ],
   "source": [
    "next(collection.find({}))"
   ]
  },
  {
   "cell_type": "markdown",
   "metadata": {},
   "source": [
    "## Question 4"
   ]
  },
  {
   "cell_type": "code",
   "execution_count": null,
   "metadata": {},
   "outputs": [],
   "source": [
    "max_views = collection.find({}).sort([(\"views\", -1)])\n",
    "next(max_views)"
   ]
  },
  {
   "cell_type": "markdown",
   "metadata": {},
   "source": [
    "## Question 5"
   ]
  },
  {
   "cell_type": "code",
   "execution_count": null,
   "metadata": {},
   "outputs": [],
   "source": [
    "average_views_category = collection.aggregate([{\"$group\" : {\"_id\" : \"$category_id\", \"views\" : {\"$avg\" : \"$views\"}}}])\n",
    "list(average_views_category).count()"
   ]
  },
  {
   "cell_type": "markdown",
   "metadata": {},
   "source": [
    "## Question 6 "
   ]
  },
  {
   "cell_type": "code",
   "execution_count": null,
   "metadata": {},
   "outputs": [],
   "source": [
    "max_avg_like_channel = collection.aggregate([{\"$group\" : {\"_id\" : \"$channel_title\", \"likes\" : {\"$avg\" : \"$likes\"}}},{\n",
    "                                            \"$sort\": {\"likes\" : -1}}])\n",
    "list(max_avg_like_channel)"
   ]
  }
 ],
 "metadata": {
  "kernelspec": {
   "display_name": "Python 3",
   "language": "python",
   "name": "python3"
  },
  "language_info": {
   "codemirror_mode": {
    "name": "ipython",
    "version": 3
   },
   "file_extension": ".py",
   "mimetype": "text/x-python",
   "name": "python",
   "nbconvert_exporter": "python",
   "pygments_lexer": "ipython3",
   "version": "3.8.6"
  }
 },
 "nbformat": 4,
 "nbformat_minor": 2
}
